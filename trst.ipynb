{
 "cells": [
  {
   "cell_type": "code",
   "execution_count": 1,
   "metadata": {},
   "outputs": [],
   "source": [
    "import yaml"
   ]
  },
  {
   "cell_type": "code",
   "execution_count": 14,
   "metadata": {},
   "outputs": [],
   "source": [
    "def load_params():\n",
    "    # Load the training parameters from the param.yaml file\n",
    "    with open('params.yaml') as f:\n",
    "        params = yaml.safe_load(f)\n",
    "    return params\n",
    "\n",
    "\n",
    "\n",
    "def save_params(params):\n",
    "    # Save the updated training parameters to the param.yaml file\n",
    "    \n",
    "    with open('params.yaml', 'w') as f:\n",
    "        yaml.safe_dump(params, f, default_style='', default_flow_style=False)"
   ]
  },
  {
   "cell_type": "code",
   "execution_count": 17,
   "metadata": {},
   "outputs": [
    {
     "data": {
      "text/plain": [
       "{'AUGMENTATION': 'True',\n",
       " 'BATCH_SIZE': '16',\n",
       " 'CLASSES': '2',\n",
       " 'EPOCHS': '100',\n",
       " 'IMAGE_SIZE': '[224, 224, 3]',\n",
       " 'INCLUDE_TOP': 'False',\n",
       " 'LEARNING_RATE': '0.01',\n",
       " 'WEIGHTS': 'imagenet'}"
      ]
     },
     "execution_count": 17,
     "metadata": {},
     "output_type": "execute_result"
    }
   ],
   "source": [
    "params = load_params()\n",
    "params"
   ]
  },
  {
   "cell_type": "code",
   "execution_count": 19,
   "metadata": {},
   "outputs": [
    {
     "data": {
      "text/plain": [
       "{'AUGMENTATION': 'True',\n",
       " 'BATCH_SIZE': '16',\n",
       " 'CLASSES': '2',\n",
       " 'EPOCHS': '100',\n",
       " 'IMAGE_SIZE': '[224, 224, 3]',\n",
       " 'INCLUDE_TOP': 'False',\n",
       " 'LEARNING_RATE': '0.01',\n",
       " 'WEIGHTS': 'imagenet'}"
      ]
     },
     "execution_count": 19,
     "metadata": {},
     "output_type": "execute_result"
    }
   ],
   "source": [
    "params = {str(k).strip(\"'\"): str(v).strip(\"'\") for k, v in params.items()}\n",
    "params"
   ]
  },
  {
   "cell_type": "code",
   "execution_count": 21,
   "metadata": {},
   "outputs": [
    {
     "name": "stdout",
     "output_type": "stream",
     "text": [
      "0.01\n"
     ]
    }
   ],
   "source": [
    "with open('params.yaml') as f:\n",
    "        params = yaml.safe_load(f)\n",
    "        params['LEARNING_RATE'] = \n",
    "        print(params['LEARNING_RATE'])"
   ]
  }
 ],
 "metadata": {
  "kernelspec": {
   "display_name": "base",
   "language": "python",
   "name": "python3"
  },
  "language_info": {
   "codemirror_mode": {
    "name": "ipython",
    "version": 3
   },
   "file_extension": ".py",
   "mimetype": "text/x-python",
   "name": "python",
   "nbconvert_exporter": "python",
   "pygments_lexer": "ipython3",
   "version": "3.10.9"
  },
  "orig_nbformat": 4
 },
 "nbformat": 4,
 "nbformat_minor": 2
}
